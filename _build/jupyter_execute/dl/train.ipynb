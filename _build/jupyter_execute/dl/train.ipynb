{
 "cells": [
  {
   "cell_type": "markdown",
   "id": "b444ba6b",
   "metadata": {},
   "source": [
    "# Training\n",
    "## Weight Initialization\n",
    "In any neural network, all parameters need to be initialized to be updated during training.\n",
    "\n",
    "The choice of initialization methods matters.\n",
    "- If the initial weights are too large / too small, exploding / vanishing gradients will take place.\n",
    "- If the weights are initialized improperly, convergence can be slow, nonexistent, or stuck in suboptimal solutions.\n",
    "\n",
    "### Zero Initialization\n",
    "- **What**: All parameters are 0.\n",
    "- **Why**: Back in the days, people thought it was simple and unbiased due to a lack of understanding of deep learning.\n",
    "- **Pros**: Simple, unbiased, good performance with small models.\n",
    "- **Cons**:\n",
    "    - **Failure to break symmetry**: All weights produce the same output and receive the same gradients $\\rightarrow$ No learning.\n",
    "\t- Vanishing gradients.\n",
    "\t- No non-linearity.\n",
    "\t- Dead neurons if activated by the ReLU family.\n",
    "\n",
    "### Random Initialization\n",
    "### He Initialization\n",
    "### Xavier/Glorot Initialization\n",
    "\n",
    "## Gradient Clipping\n",
    "\n",
    "## Early Stopping\n",
    "\n",
    "## Checkpointing\n",
    "\n",
    "## Weight Regularization\n",
    "\n",
    "## Hyperparameter Tuning\n",
    "### Grid Search\n",
    "### Random Search\n",
    "### Bayesian Optimization\n",
    "### Hyperband\n",
    "\n",
    "## Transfer Learning\n",
    "### Pre-training\n",
    "### Fine-tuning\n",
    "\n",
    "## Distributed Training\n",
    "### Data Parallelism\n",
    "### Model Parallelism\n",
    "### Distributed Training Frameworks\n",
    "\n",
    "## Mixed Precision Training\n",
    "\n",
    "## Model Compression\n",
    "### Pruning\n",
    "### Quantization\n",
    "### Knowledge Distillation"
   ]
  }
 ],
 "metadata": {
  "jupytext": {
   "formats": "md:myst",
   "text_representation": {
    "extension": ".md",
    "format_name": "myst"
   }
  },
  "kernelspec": {
   "display_name": "Python 3",
   "language": "python",
   "name": "python3"
  },
  "language_info": {
   "codemirror_mode": {
    "name": "ipython",
    "version": 3
   },
   "file_extension": ".py",
   "mimetype": "text/x-python",
   "name": "python",
   "nbconvert_exporter": "python",
   "pygments_lexer": "ipython3",
   "version": "3.10.12"
  },
  "source_map": [
   11
  ]
 },
 "nbformat": 4,
 "nbformat_minor": 5
}