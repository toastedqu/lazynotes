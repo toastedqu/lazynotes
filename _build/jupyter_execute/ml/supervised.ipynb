{
 "cells": [
  {
   "cell_type": "markdown",
   "id": "da431de2",
   "metadata": {},
   "source": [
    "# Supervised Learning\n",
    "Supervised learning trains models on labeled data to predict outputs from inputs.\n",
    "\n",
    "Most methods are addressed from a frequentist perspective, except Bayesian methods.\n",
    "\n",
    "ToC:\n",
    "```{tableofcontents}\n",
    "```"
   ]
  }
 ],
 "metadata": {
  "jupytext": {
   "formats": "md:myst",
   "text_representation": {
    "extension": ".md",
    "format_name": "myst"
   }
  },
  "kernelspec": {
   "display_name": "Python 3",
   "language": "python",
   "name": "python3"
  },
  "language_info": {
   "codemirror_mode": {
    "name": "ipython",
    "version": 3
   },
   "file_extension": ".py",
   "mimetype": "text/x-python",
   "name": "python",
   "nbconvert_exporter": "python",
   "pygments_lexer": "ipython3",
   "version": "3.12.0"
  },
  "source_map": [
   11
  ]
 },
 "nbformat": 4,
 "nbformat_minor": 5
}