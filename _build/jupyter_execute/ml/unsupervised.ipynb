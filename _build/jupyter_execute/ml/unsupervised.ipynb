{
 "cells": [
  {
   "cell_type": "markdown",
   "id": "daf7d8fb",
   "metadata": {},
   "source": [
    "# Clustering\n",
    "Clustering groups similar samples together based on certain characteristics in order to find the hidden patterns within data to simplify and improve processing and analysis.\n",
    "\n",
    "## K-means\n",
    "- **What**: Iteratively group samples into $k$ clusters till the centroids stabilize\n",
    "- **Why**: Find natural groupings within data.\n",
    "- **How**:\n",
    "    1. Initialize $k$ centroids.\n",
    "    2. Repeat:\n",
    "    \t1. Assign each sample to its nearest centroid.\n",
    "\t\t2. Update the centroids based on the mean of all samples assigned to them.\n",
    "    3. Break if required or until the centroids stabilize.\n",
    "- **When**:\n",
    "\t- There are exactly $k$ clusters in the data.\n",
    "\t- The data is scale-independent.\n",
    "\t- The clusters are spherical, equally sized, and well-separated with hard margins.\n",
    "- **Pros**:\n",
    "    - Simple.\n",
    "- **Cons**:\n",
    "    - Requires prior knowledge of $k$.\n",
    "\t- Sensitive to centroid initialization.\n",
    "\t- Bad performance on non-spherical, overlapping, or varying-sized clusters.\n",
    "\t- Possible convergence to local minima.\n",
    "\n",
    "\n",
    "## Gaussian Mixture Models\n",
    "## Spectral\n",
    "## Hierarchical\n",
    "### Agglomerative\n",
    "### Divisive\n",
    "## DBSCAN\n",
    "\n",
    "# Matrix Factorization\n",
    "## Singular Value Decomposition\n",
    "## Principal Component Analysis\n",
    "## Independent Component Analysis\n",
    "## Non-Negative Matrix Factorization\n",
    "## Latent Dirichlet Allocation\n",
    "\n",
    "# Manifold Learning\n",
    "## t-SNE\n",
    "## UMAP\n",
    "## Factor Analysis\n",
    "\n",
    "# Anomaly Detection\n",
    "## Distance-Based Methods\n",
    "## Density-Based Methods\n",
    "\n",
    "# Association Rule Learning\n",
    "## Apriori Algorithm\n",
    "## Eclat Algorithm\n",
    "## FP-Growth Algorithm"
   ]
  }
 ],
 "metadata": {
  "jupytext": {
   "formats": "md:myst",
   "text_representation": {
    "extension": ".md",
    "format_name": "myst"
   }
  },
  "kernelspec": {
   "display_name": "Python 3",
   "language": "python",
   "name": "python3"
  },
  "language_info": {
   "codemirror_mode": {
    "name": "ipython",
    "version": 3
   },
   "file_extension": ".py",
   "mimetype": "text/x-python",
   "name": "python",
   "nbconvert_exporter": "python",
   "pygments_lexer": "ipython3",
   "version": "3.10.12"
  },
  "source_map": [
   11
  ]
 },
 "nbformat": 4,
 "nbformat_minor": 5
}